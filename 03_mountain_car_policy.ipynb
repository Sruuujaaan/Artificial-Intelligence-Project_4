{
 "cells": [
  {
   "cell_type": "markdown",
   "metadata": {},
   "source": [
    "Here the agent is learning on two continuous variables: position and velocity. For any given state (position and velocity) of the car, the agent is given the possibility of driving left, driving right, or not using the engine at all."
   ]
  },
  {
   "cell_type": "code",
   "execution_count": 1,
   "metadata": {},
   "outputs": [],
   "source": [
    "import gym\n",
    "import math\n",
    "import torch\n",
    "import numpy as np\n",
    "import torch.nn as nn\n",
    "import torch.nn.functional\n",
    "from collections import deque"
   ]
  },
  {
   "cell_type": "code",
   "execution_count": 2,
   "metadata": {},
   "outputs": [
    {
     "name": "stdout",
     "output_type": "stream",
     "text": [
      "\u001b[33mWARN: gym.spaces.Box autodetected dtype as <class 'numpy.float32'>. Please provide explicit dtype.\u001b[0m\n",
      "\u001b[33mWARN: gym.spaces.Box autodetected dtype as <class 'numpy.float32'>. Please provide explicit dtype.\u001b[0m\n"
     ]
    }
   ],
   "source": [
    "device = torch.device(\"cuda:0\" if torch.cuda.is_available() else \"cpu\")\n",
    "env = gym.make('MountainCarContinuous-v0')"
   ]
  },
  {
   "cell_type": "code",
   "execution_count": 3,
   "metadata": {},
   "outputs": [],
   "source": [
    "env.seed(101)\n",
    "np.random.seed(101)"
   ]
  },
  {
   "cell_type": "code",
   "execution_count": 4,
   "metadata": {},
   "outputs": [],
   "source": [
    "class Agent(nn.Module):\n",
    "    def __init__(self, env, hiddenLayers=16):\n",
    "        super(Agent, self).__init__()\n",
    "        self.env = env\n",
    "        self.stateSize = env.observation_space.shape[0]\n",
    "        self.hiddenLayerSize = hiddenLayers\n",
    "        self.actionSize = env.action_space.shape[0]\n",
    "        # define layers\n",
    "        self.fc1 = nn.Linear(self.stateSize, self.hiddenLayerSize)\n",
    "        self.fc2 = nn.Linear(self.hiddenLayerSize, self.actionSize)\n",
    "\n",
    "    def initWeights(self, weights):\n",
    "        stateSize = self.stateSize\n",
    "        hiddenLayerSize = self.hiddenLayerSize\n",
    "        actionSize = self.actionSize\n",
    "        # separate the weights for each layer\n",
    "        fc1_end = (stateSize * hiddenLayerSize) + hiddenLayerSize\n",
    "        fc1_W = torch.from_numpy(weights[:stateSize * hiddenLayerSize].reshape(stateSize, hiddenLayerSize))\n",
    "        fc1_b = torch.from_numpy(weights[stateSize * hiddenLayerSize:fc1_end])\n",
    "        fc2_W = torch.from_numpy(weights[fc1_end:fc1_end + (hiddenLayerSize * actionSize)].reshape(hiddenLayerSize, actionSize))\n",
    "        fc2_b = torch.from_numpy(weights[fc1_end + (hiddenLayerSize * actionSize):])\n",
    "        # set the weights for each layer\n",
    "        self.fc1.weight.data.copy_(fc1_W.view_as(self.fc1.weight.data))\n",
    "        self.fc1.bias.data.copy_(fc1_b.view_as(self.fc1.bias.data))\n",
    "        self.fc2.weight.data.copy_(fc2_W.view_as(self.fc2.weight.data))\n",
    "        self.fc2.bias.data.copy_(fc2_b.view_as(self.fc2.bias.data))\n",
    "\n",
    "    def evaluate(self, weights, gamma=1.0, max_t=5000):\n",
    "        self.initWeights(weights)\n",
    "        episode_return = 0.0\n",
    "        state = self.env.reset()\n",
    "        for t in range(max_t):\n",
    "            state = torch.from_numpy(state).float().to(device)\n",
    "            action = self.forward(state)\n",
    "            state, reward, done, _ = self.env.step(action)\n",
    "            episode_return += reward * math.pow(gamma, t)      # Modifying the reward\n",
    "            if done:\n",
    "                break\n",
    "        return episode_return\n",
    "\n",
    "    def getWeights(self):\n",
    "        return (self.stateSize + 1) * self.hiddenLayerSize + (self.hiddenLayerSize + 1) * self.actionSize\n",
    "\n",
    "    def forward(self, x):\n",
    "        x = torch.nn.functional.relu(self.fc1(x))\n",
    "        x = torch.nn.functional.tanh(self.fc2(x))\n",
    "        return x.cpu().data"
   ]
  },
  {
   "cell_type": "code",
   "execution_count": 5,
   "metadata": {},
   "outputs": [],
   "source": [
    "agent = Agent(env).to(device)"
   ]
  },
  {
   "cell_type": "code",
   "execution_count": 6,
   "metadata": {},
   "outputs": [],
   "source": [
    "def crossEntropyCalculator(trainEpisodes=501, maxSteps=1000, gamma=1.0, popSize=52, eliteFrac=0.2, sigma=0.5):\n",
    "    nElite = int(popSize * eliteFrac)\n",
    "    scoresDeque = deque(maxlen=100)\n",
    "    scores = list()\n",
    "    bestWeight = sigma * np.random.randn(agent.getWeights())\n",
    "\n",
    "    for episode in range(1, trainEpisodes + 1):\n",
    "        weights_pop = [bestWeight + (sigma * np.random.randn(agent.getWeights())) for _ in range(popSize)]\n",
    "        rewards = np.array([agent.evaluate(weights, gamma, maxSteps) for weights in weights_pop])\n",
    "\n",
    "        eliteIdxs = rewards.argsort()[-nElite:]\n",
    "        eliteWeights = [weights_pop[i] for i in eliteIdxs]\n",
    "        bestWeight = np.array(eliteWeights).mean(axis=0)\n",
    "\n",
    "        reward = agent.evaluate(bestWeight, gamma=1.0)\n",
    "        scoresDeque.append(reward)\n",
    "        scores.append(reward)\n",
    "\n",
    "        torch.save(agent.state_dict(), 'checkpoint.pth')\n",
    "        print(f'Episode {episode}\\t Average Score: {np.mean(scoresDeque):.2f}')\n",
    "\n",
    "        if np.mean(scoresDeque) >= 90:\n",
    "            print(f'\\nEpisodes needed to learn a good policy {episode - 100} episodes\\t')\n",
    "            break\n",
    "    return scores"
   ]
  },
  {
   "cell_type": "code",
   "execution_count": 7,
   "metadata": {},
   "outputs": [
    {
     "name": "stderr",
     "output_type": "stream",
     "text": [
      "C:\\Users\\Srujan\\Anaconda3\\lib\\site-packages\\torch\\nn\\functional.py:995: UserWarning: nn.functional.tanh is deprecated. Use torch.tanh instead.\n",
      "  warnings.warn(\"nn.functional.tanh is deprecated. Use torch.tanh instead.\")\n"
     ]
    },
    {
     "name": "stdout",
     "output_type": "stream",
     "text": [
      "Episode 1\t Average Score: -5.67\n",
      "Episode 2\t Average Score: -3.07\n",
      "Episode 3\t Average Score: -2.13\n",
      "Episode 4\t Average Score: -2.07\n",
      "Episode 5\t Average Score: -1.70\n",
      "Episode 6\t Average Score: -1.60\n",
      "Episode 7\t Average Score: -1.68\n",
      "Episode 8\t Average Score: -1.56\n",
      "Episode 9\t Average Score: -1.43\n",
      "Episode 10\t Average Score: -1.30\n",
      "Episode 11\t Average Score: -1.25\n",
      "Episode 12\t Average Score: -1.17\n",
      "Episode 13\t Average Score: -1.10\n",
      "Episode 14\t Average Score: -1.04\n",
      "Episode 15\t Average Score: -0.98\n",
      "Episode 16\t Average Score: -0.93\n",
      "Episode 17\t Average Score: -1.21\n",
      "Episode 18\t Average Score: -1.44\n",
      "Episode 19\t Average Score: -1.39\n",
      "Episode 20\t Average Score: -1.32\n",
      "Episode 21\t Average Score: -1.29\n",
      "Episode 22\t Average Score: -1.28\n",
      "Episode 23\t Average Score: -1.28\n",
      "Episode 24\t Average Score: -1.25\n",
      "Episode 25\t Average Score: -1.48\n",
      "Episode 26\t Average Score: -1.45\n",
      "Episode 27\t Average Score: -1.44\n",
      "Episode 28\t Average Score: -1.61\n",
      "Episode 29\t Average Score: -1.57\n",
      "Episode 30\t Average Score: -1.71\n",
      "Episode 31\t Average Score: -1.72\n",
      "Episode 32\t Average Score: -1.67\n",
      "Episode 33\t Average Score: -1.72\n",
      "Episode 34\t Average Score: -1.77\n",
      "Episode 35\t Average Score: 0.82\n",
      "Episode 36\t Average Score: 2.65\n",
      "Episode 37\t Average Score: 5.12\n",
      "Episode 38\t Average Score: 7.53\n",
      "Episode 39\t Average Score: 6.86\n",
      "Episode 40\t Average Score: 9.07\n",
      "Episode 41\t Average Score: 8.35\n",
      "Episode 42\t Average Score: 7.65\n",
      "Episode 43\t Average Score: 6.68\n",
      "Episode 44\t Average Score: 5.81\n",
      "Episode 45\t Average Score: 7.83\n",
      "Episode 46\t Average Score: 9.78\n",
      "Episode 47\t Average Score: 11.66\n",
      "Episode 48\t Average Score: 13.42\n",
      "Episode 49\t Average Score: 15.13\n",
      "Episode 50\t Average Score: 16.66\n",
      "Episode 51\t Average Score: 18.14\n",
      "Episode 52\t Average Score: 19.61\n",
      "Episode 53\t Average Score: 21.01\n",
      "Episode 54\t Average Score: 22.14\n",
      "Episode 55\t Average Score: 23.46\n",
      "Episode 56\t Average Score: 24.74\n",
      "Episode 57\t Average Score: 25.97\n",
      "Episode 58\t Average Score: 27.12\n",
      "Episode 59\t Average Score: 28.23\n",
      "Episode 60\t Average Score: 29.34\n",
      "Episode 61\t Average Score: 30.34\n",
      "Episode 62\t Average Score: 31.38\n",
      "Episode 63\t Average Score: 32.38\n",
      "Episode 64\t Average Score: 31.49\n",
      "Episode 65\t Average Score: 32.42\n",
      "Episode 66\t Average Score: 33.35\n",
      "Episode 67\t Average Score: 34.26\n",
      "Episode 68\t Average Score: 35.10\n",
      "Episode 69\t Average Score: 35.99\n",
      "Episode 70\t Average Score: 36.84\n",
      "Episode 71\t Average Score: 37.65\n",
      "Episode 72\t Average Score: 38.44\n",
      "Episode 73\t Average Score: 39.22\n",
      "Episode 74\t Average Score: 39.95\n",
      "Episode 75\t Average Score: 40.63\n",
      "Episode 76\t Average Score: 41.33\n",
      "Episode 77\t Average Score: 41.98\n",
      "Episode 78\t Average Score: 42.65\n",
      "Episode 79\t Average Score: 43.32\n",
      "Episode 80\t Average Score: 43.98\n",
      "Episode 81\t Average Score: 44.60\n",
      "Episode 82\t Average Score: 45.23\n",
      "Episode 83\t Average Score: 45.84\n",
      "Episode 84\t Average Score: 46.42\n",
      "Episode 85\t Average Score: 47.01\n",
      "Episode 86\t Average Score: 47.54\n",
      "Episode 87\t Average Score: 48.08\n",
      "Episode 88\t Average Score: 47.47\n",
      "Episode 89\t Average Score: 47.98\n",
      "Episode 90\t Average Score: 48.53\n",
      "Episode 91\t Average Score: 49.04\n",
      "Episode 92\t Average Score: 49.54\n",
      "Episode 93\t Average Score: 50.00\n",
      "Episode 94\t Average Score: 50.48\n",
      "Episode 95\t Average Score: 50.93\n",
      "Episode 96\t Average Score: 51.33\n",
      "Episode 97\t Average Score: 51.76\n",
      "Episode 98\t Average Score: 52.19\n",
      "Episode 99\t Average Score: 52.60\n",
      "Episode 100\t Average Score: 53.03\n",
      "Episode 101\t Average Score: 54.04\n",
      "Episode 102\t Average Score: 54.99\n",
      "Episode 103\t Average Score: 55.91\n",
      "Episode 104\t Average Score: 56.87\n",
      "Episode 105\t Average Score: 57.81\n",
      "Episode 106\t Average Score: 58.77\n",
      "Episode 107\t Average Score: 59.73\n",
      "Episode 108\t Average Score: 60.69\n",
      "Episode 109\t Average Score: 61.64\n",
      "Episode 110\t Average Score: 62.60\n",
      "Episode 111\t Average Score: 63.55\n",
      "Episode 112\t Average Score: 64.51\n",
      "Episode 113\t Average Score: 65.45\n",
      "Episode 114\t Average Score: 66.40\n",
      "Episode 115\t Average Score: 67.35\n",
      "Episode 116\t Average Score: 68.29\n",
      "Episode 117\t Average Score: 69.29\n",
      "Episode 118\t Average Score: 70.29\n",
      "Episode 119\t Average Score: 71.18\n",
      "Episode 120\t Average Score: 72.13\n",
      "Episode 121\t Average Score: 73.07\n",
      "Episode 122\t Average Score: 74.02\n",
      "Episode 123\t Average Score: 74.99\n",
      "Episode 124\t Average Score: 75.94\n",
      "Episode 125\t Average Score: 76.97\n",
      "Episode 126\t Average Score: 77.94\n",
      "Episode 127\t Average Score: 78.88\n",
      "Episode 128\t Average Score: 79.88\n",
      "Episode 129\t Average Score: 80.81\n",
      "Episode 130\t Average Score: 81.81\n",
      "Episode 131\t Average Score: 82.78\n",
      "Episode 132\t Average Score: 83.75\n",
      "Episode 133\t Average Score: 84.70\n",
      "Episode 134\t Average Score: 85.68\n",
      "Episode 135\t Average Score: 85.74\n",
      "Episode 136\t Average Score: 86.02\n",
      "Episode 137\t Average Score: 86.03\n",
      "Episode 138\t Average Score: 86.01\n",
      "Episode 139\t Average Score: 87.13\n",
      "Episode 140\t Average Score: 87.12\n",
      "Episode 141\t Average Score: 88.26\n",
      "Episode 142\t Average Score: 89.42\n",
      "Episode 143\t Average Score: 90.70\n",
      "\n",
      "Episodes needed to learn a good policy 43 episodes\t\n"
     ]
    }
   ],
   "source": [
    "scores = crossEntropyCalculator()\n",
    "# Loading weights from file\n",
    "agent.load_state_dict(torch.load('checkpoint.pth'))\n",
    "state = env.reset()"
   ]
  },
  {
   "cell_type": "code",
   "execution_count": 8,
   "metadata": {},
   "outputs": [
    {
     "name": "stderr",
     "output_type": "stream",
     "text": [
      "C:\\Users\\Srujan\\Anaconda3\\lib\\site-packages\\torch\\nn\\functional.py:995: UserWarning: nn.functional.tanh is deprecated. Use torch.tanh instead.\n",
      "  warnings.warn(\"nn.functional.tanh is deprecated. Use torch.tanh instead.\")\n"
     ]
    }
   ],
   "source": [
    "while True:\n",
    "    state = torch.from_numpy(state).float().to(device)\n",
    "    with torch.no_grad():\n",
    "        action = agent(state)\n",
    "    env.render()\n",
    "    next_state, reward, done, _ = env.step(action)\n",
    "    state = next_state\n",
    "    if done:\n",
    "        break"
   ]
  },
  {
   "cell_type": "code",
   "execution_count": 9,
   "metadata": {},
   "outputs": [],
   "source": [
    "env.close()"
   ]
  },
  {
   "cell_type": "code",
   "execution_count": null,
   "metadata": {},
   "outputs": [],
   "source": []
  }
 ],
 "metadata": {
  "kernelspec": {
   "display_name": "Python 3",
   "language": "python",
   "name": "python3"
  },
  "language_info": {
   "codemirror_mode": {
    "name": "ipython",
    "version": 3
   },
   "file_extension": ".py",
   "mimetype": "text/x-python",
   "name": "python",
   "nbconvert_exporter": "python",
   "pygments_lexer": "ipython3",
   "version": "3.6.6"
  }
 },
 "nbformat": 4,
 "nbformat_minor": 2
}
